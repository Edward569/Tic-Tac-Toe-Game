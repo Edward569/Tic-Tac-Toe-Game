{
 "cells": [
  {
   "cell_type": "code",
   "execution_count": 1,
   "metadata": {},
   "outputs": [],
   "source": [
    "def drawBoard(board):\n",
    "\n",
    "    print('   |   |')\n",
    "    print(' ' + board[7] + ' | ' + board[8] + ' | ' + board[9])\n",
    "    print('   |   |')\n",
    "    print('-----------')\n",
    "    print('   |   |')\n",
    "    print(' ' + board[4] + ' | ' + board[5] + ' | ' + board[6])\n",
    "    print('   |   |')\n",
    "    print('-----------')\n",
    "    print('   |   |')\n",
    "    print(' ' + board[1] + ' | ' + board[2] + ' | ' + board[3])\n",
    "    print('   |   |')"
   ]
  },
  {
   "cell_type": "code",
   "execution_count": 2,
   "metadata": {},
   "outputs": [],
   "source": [
    "def inputPlayerLetter():\n",
    "\n",
    "    letter = ''\n",
    "    while not (letter == 'X' or letter == 'O'):\n",
    "        print('Do you want to be X or O?')\n",
    "        letter = input().upper()\n",
    "\n",
    "    # القيمة الآولى حرف اللاعب والقيمة الثانية حرف الآلة\n",
    "    if letter == 'X':\n",
    "        return ['X', 'O']\n",
    "    else:\n",
    "        return ['O', 'X']"
   ]
  },
  {
   "cell_type": "code",
   "execution_count": 3,
   "metadata": {},
   "outputs": [],
   "source": [
    "import random\n",
    "\n",
    "def whoGoesFirst():\n",
    "\n",
    "\n",
    "    if random.randint(0, 1) == 0:\n",
    "        return 'computer'\n",
    "    else:\n",
    "        return 'player'"
   ]
  },
  {
   "cell_type": "code",
   "execution_count": 4,
   "metadata": {},
   "outputs": [],
   "source": [
    "\n",
    "def playAgain():\n",
    "\n",
    "\n",
    "    print('Do you want to play again? (yes or no)')\n",
    "    return input().lower().startswith('y')"
   ]
  },
  {
   "cell_type": "code",
   "execution_count": 5,
   "metadata": {},
   "outputs": [],
   "source": [
    "\n",
    "def makeMove(board, letter, move):\n",
    "\n",
    "    board[move] = letter"
   ]
  },
  {
   "cell_type": "code",
   "execution_count": 6,
   "metadata": {},
   "outputs": [],
   "source": [
    "def isWinner(bo, le):\n",
    "\n",
    "\n",
    "    return ((bo[7] == le and bo[8] == le and bo[9] == le) or # across the top\n",
    "            (bo[4] == le and bo[5] == le and bo[6] == le) or # across the middle\n",
    "            (bo[1] == le and bo[2] == le and bo[3] == le) or # across the bottom\n",
    "            (bo[7] == le and bo[4] == le and bo[1] == le) or # down the left side\n",
    "            (bo[8] == le and bo[5] == le and bo[2] == le) or # down the middle\n",
    "            (bo[9] == le and bo[6] == le and bo[3] == le) or # down the right side\n",
    "            (bo[7] == le and bo[5] == le and bo[3] == le) or # diagonal\n",
    "            (bo[9] == le and bo[5] == le and bo[1] == le)) # diagonal"
   ]
  },
  {
   "cell_type": "code",
   "execution_count": 7,
   "metadata": {},
   "outputs": [],
   "source": [
    "def isSpaceFree(board, move):\n",
    "\n",
    "\n",
    "    return board[move] == ' '"
   ]
  },
  {
   "cell_type": "code",
   "execution_count": 8,
   "metadata": {},
   "outputs": [],
   "source": [
    "def getPlayerMove(board):\n",
    "\n",
    "    move = ' '\n",
    "    while move not in '1 2 3 4 5 6 7 8 9'.split() or not isSpaceFree(board, int(move)):\n",
    "        print('What is your next move? (1-9)')\n",
    "        move = input()\n",
    "    return int(move)"
   ]
  },
  {
   "cell_type": "code",
   "execution_count": 9,
   "metadata": {},
   "outputs": [],
   "source": [
    "def getComputerMove(board, computerLetter):\n",
    "\n",
    "    if computerLetter == 'X':\n",
    "        playerLetter = 'O'\n",
    "    else:\n",
    "        playerLetter = 'X'\n",
    "        \n",
    "    #----------------------(1)-----------------------------\n",
    "    for i in range(1, 10):\n",
    "        copy = getBoardCopy(board)\n",
    "        if isSpaceFree(copy, i):\n",
    "            makeMove(copy, computerLetter, i)\n",
    "            if isWinner(copy, computerLetter):\n",
    "                return i\n",
    "    #----------------------(1)-----------------------------\n",
    "\n",
    "    #----------------------(2)-----------------------------\n",
    "    for i in range(1, 10):\n",
    "        copy = getBoardCopy(board)\n",
    "        if isSpaceFree(copy, i):\n",
    "            makeMove(copy, playerLetter, i)\n",
    "            if isWinner(copy, playerLetter):\n",
    "                return i\n",
    "    #----------------------(2)-----------------------------\n",
    "\n",
    "\n",
    "    #----------------------(3)-----------------------------\n",
    "    move = chooseRandomMoveFromList(board, [1, 3, 7, 9])\n",
    "    if move != None:\n",
    "        return move\n",
    "    #----------------------(3)-----------------------------\n",
    "\n",
    "\n",
    "    #----------------------(4)-----------------------------\n",
    "    if isSpaceFree(board, 5):\n",
    "        return 5\n",
    "    #----------------------(4)-----------------------------\n",
    "\n",
    "\n",
    "    #----------------------(5)-----------------------------\n",
    "    return chooseRandomMoveFromList(board, [2, 4, 6, 8])\n",
    "    #----------------------(5)-----------------------------"
   ]
  },
  {
   "cell_type": "code",
   "execution_count": 10,
   "metadata": {},
   "outputs": [],
   "source": [
    "def chooseRandomMoveFromList(board, movesList):\n",
    "\n",
    "    possibleMoves = []\n",
    "    for i in movesList:\n",
    "        if isSpaceFree(board, i):\n",
    "            possibleMoves.append(i)\n",
    "            \n",
    "    if len(possibleMoves) != 0:\n",
    "        return random.choice(possibleMoves)\n",
    "    else:\n",
    "        return None"
   ]
  },
  {
   "cell_type": "code",
   "execution_count": 11,
   "metadata": {},
   "outputs": [],
   "source": [
    "def getBoardCopy(board):\n",
    "\n",
    "    dupeBoard = []\n",
    "    for i in board:\n",
    "        dupeBoard.append(i)\n",
    "    return dupeBoard"
   ]
  },
  {
   "cell_type": "code",
   "execution_count": 12,
   "metadata": {},
   "outputs": [],
   "source": [
    "def isBoardFull(board):\n",
    "\n",
    "    for i in range(1, 10):\n",
    "        if isSpaceFree(board, i):\n",
    "            return False\n",
    "    return True"
   ]
  },
  {
   "cell_type": "code",
   "execution_count": null,
   "metadata": {},
   "outputs": [
    {
     "name": "stdout",
     "output_type": "stream",
     "text": [
      "Welcome to XO!\n",
      "Do you want to be X or O?\n"
     ]
    }
   ],
   "source": [
    "print('Welcome to XO!')\n",
    "\n",
    "while True:\n",
    "    \n",
    "\n",
    "    \n",
    "    theBoard = [' '] * 10\n",
    "    \n",
    "    playerLetter, computerLetter = inputPlayerLetter()\n",
    "    turn = whoGoesFirst()\n",
    "    print('The ' + turn + ' will go first.')\n",
    "    gameIsPlaying = True\n",
    "    \n",
    "    while gameIsPlaying:\n",
    "        if turn == 'player':\n",
    "            drawBoard(theBoard)\n",
    "            move = getPlayerMove(theBoard)\n",
    "            makeMove(theBoard, playerLetter, move)\n",
    "            \n",
    "            if isWinner(theBoard, playerLetter):\n",
    "                drawBoard(theBoard)\n",
    "                print('Hooray! You have won the game!')\n",
    "                gameIsPlaying = False\n",
    "            else:\n",
    "                if isBoardFull(theBoard):\n",
    "                    drawBoard(theBoard)\n",
    "                    print('The game is a tie!')\n",
    "                    break\n",
    "                else:\n",
    "                    turn = 'computer'\n",
    "        \n",
    "        else:\n",
    "            move = getComputerMove(theBoard, computerLetter)\n",
    "            makeMove(theBoard, computerLetter, move)\n",
    "            \n",
    "            if isWinner(theBoard, computerLetter):\n",
    "                drawBoard(theBoard)\n",
    "                print('The computer has beaten you! You lose.')\n",
    "                gameIsPlaying = False\n",
    "            else:\n",
    "                if isBoardFull(theBoard):\n",
    "                    drawBoard(theBoard)\n",
    "                    print('The game is a tie!')\n",
    "                    break\n",
    "                else:\n",
    "                    turn = 'player'\n",
    "                    \n",
    "    if not playAgain():\n",
    "        break"
   ]
  },
  {
   "cell_type": "code",
   "execution_count": null,
   "metadata": {},
   "outputs": [],
   "source": []
  }
 ],
 "metadata": {
  "kernelspec": {
   "display_name": "Python 3",
   "language": "python",
   "name": "python3"
  },
  "language_info": {
   "codemirror_mode": {
    "name": "ipython",
    "version": 3
   },
   "file_extension": ".py",
   "mimetype": "text/x-python",
   "name": "python",
   "nbconvert_exporter": "python",
   "pygments_lexer": "ipython3",
   "version": "3.7.6"
  }
 },
 "nbformat": 4,
 "nbformat_minor": 4
}
